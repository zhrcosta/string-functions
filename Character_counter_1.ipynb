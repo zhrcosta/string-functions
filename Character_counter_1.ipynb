{
 "cells": [
  {
   "cell_type": "code",
   "execution_count": 37,
   "metadata": {},
   "outputs": [],
   "source": [
    "s = 'Fuller é sempre referenciado como um homem à frente do seu tempo por conta das invenções e pesquisas realizadas em sua vida'\n",
    "s = s.lower()"
   ]
  },
  {
   "cell_type": "code",
   "execution_count": 46,
   "metadata": {},
   "outputs": [
    {
     "data": {
      "text/plain": [
       "'fuller é sempre referenciado como um homem à frente do seu tempo por conta das invenções e pesquisas realizadas em sua vida'"
      ]
     },
     "execution_count": 46,
     "metadata": {},
     "output_type": "execute_result"
    }
   ],
   "source": [
    "s"
   ]
  },
  {
   "cell_type": "code",
   "execution_count": 47,
   "metadata": {},
   "outputs": [
    {
     "data": {
      "text/plain": [
       "9"
      ]
     },
     "execution_count": 47,
     "metadata": {},
     "output_type": "execute_result"
    }
   ],
   "source": [
    "s.count(\"a\")"
   ]
  },
  {
   "cell_type": "code",
   "execution_count": 8,
   "metadata": {
    "tags": []
   },
   "outputs": [
    {
     "output_type": "stream",
     "name": "stdout",
     "text": [
      "0 ..... \u0000\n1 ..... \u0001\n2 ..... \u0002\n3 ..... \u0003\n4 ..... \u0004\n5 ..... \u0005\n6 ..... \u0006\n7 ..... \u0007\n8 .....\n9 ..... \t\n10 ..... \n\n11 ..... \u000b\n12 ..... \f\n13 ..... \n14 ..... \u000e\n15 ..... \u000f\n16 ..... \u0010\n17 ..... \u0011\n18 ..... \u0012\n19 ..... \u0013\n20 ..... \u0014\n21 ..... \u0015\n22 ..... \u0016\n23 ..... \u0017\n24 ..... \u0018\n25 ..... \u0019\n26 ..... \u001a\n27 ..... \u001b\n28 ..... \u001c\n29 ..... \u001d\n30 ..... \u001e\n31 ..... \u001f\n32 .....  \n33 ..... !\n34 ..... \"\n35 ..... #\n36 ..... $\n37 ..... %\n38 ..... &\n39 ..... '\n40 ..... (\n41 ..... )\n42 ..... *\n43 ..... +\n44 ..... ,\n45 ..... -\n46 ..... .\n47 ..... /\n48 ..... 0\n49 ..... 1\n50 ..... 2\n51 ..... 3\n52 ..... 4\n53 ..... 5\n54 ..... 6\n55 ..... 7\n56 ..... 8\n57 ..... 9\n58 ..... :\n59 ..... ;\n60 ..... <\n61 ..... =\n62 ..... >\n63 ..... ?\n64 ..... @\n65 ..... A\n66 ..... B\n67 ..... C\n68 ..... D\n69 ..... E\n70 ..... F\n71 ..... G\n72 ..... H\n73 ..... I\n74 ..... J\n75 ..... K\n76 ..... L\n77 ..... M\n78 ..... N\n79 ..... O\n80 ..... P\n81 ..... Q\n82 ..... R\n83 ..... S\n84 ..... T\n85 ..... U\n86 ..... V\n87 ..... W\n88 ..... X\n89 ..... Y\n90 ..... Z\n91 ..... [\n92 ..... \\\n93 ..... ]\n94 ..... ^\n95 ..... _\n96 ..... `\n97 ..... a\n98 ..... b\n99 ..... c\n100 ..... d\n101 ..... e\n102 ..... f\n103 ..... g\n104 ..... h\n105 ..... i\n106 ..... j\n107 ..... k\n108 ..... l\n109 ..... m\n110 ..... n\n111 ..... o\n112 ..... p\n113 ..... q\n114 ..... r\n115 ..... s\n116 ..... t\n117 ..... u\n118 ..... v\n119 ..... w\n120 ..... x\n121 ..... y\n122 ..... z\n123 ..... {\n124 ..... |\n125 ..... }\n126 ..... ~\n127 ..... \n128 ..... \n129 ..... \n130 ..... \n131 ..... \n132 ..... \n133 ..... \n134 ..... \n135 ..... \n136 ..... \n137 ..... \n138 ..... \n139 ..... \n140 ..... \n141 ..... \n142 ..... \n143 ..... \n144 ..... \n145 ..... \n146 ..... \n147 ..... \n148 ..... \n149 ..... \n150 ..... \n151 ..... \n152 ..... \n153 ..... \n154 ..... \n155 ..... \n156 ..... \n157 ..... \n158 ..... \n159 ..... \n160 .....  \n161 ..... ¡\n162 ..... ¢\n163 ..... £\n164 ..... ¤\n165 ..... ¥\n166 ..... ¦\n167 ..... §\n168 ..... ¨\n169 ..... ©\n170 ..... ª\n171 ..... «\n172 ..... ¬\n173 ..... ­\n174 ..... ®\n175 ..... ¯\n176 ..... °\n177 ..... ±\n178 ..... ²\n179 ..... ³\n180 ..... ´\n181 ..... µ\n182 ..... ¶\n183 ..... ·\n184 ..... ¸\n185 ..... ¹\n186 ..... º\n187 ..... »\n188 ..... ¼\n189 ..... ½\n190 ..... ¾\n191 ..... ¿\n192 ..... À\n193 ..... Á\n194 ..... Â\n195 ..... Ã\n196 ..... Ä\n197 ..... Å\n198 ..... Æ\n199 ..... Ç\n200 ..... È\n201 ..... É\n202 ..... Ê\n203 ..... Ë\n204 ..... Ì\n205 ..... Í\n206 ..... Î\n207 ..... Ï\n208 ..... Ð\n209 ..... Ñ\n210 ..... Ò\n211 ..... Ó\n212 ..... Ô\n213 ..... Õ\n214 ..... Ö\n215 ..... ×\n216 ..... Ø\n217 ..... Ù\n218 ..... Ú\n219 ..... Û\n220 ..... Ü\n221 ..... Ý\n222 ..... Þ\n223 ..... ß\n224 ..... à\n225 ..... á\n226 ..... â\n227 ..... ã\n228 ..... ä\n229 ..... å\n230 ..... æ\n231 ..... ç\n232 ..... è\n233 ..... é\n234 ..... ê\n235 ..... ë\n236 ..... ì\n237 ..... í\n238 ..... î\n239 ..... ï\n240 ..... ð\n241 ..... ñ\n242 ..... ò\n243 ..... ó\n244 ..... ô\n245 ..... õ\n246 ..... ö\n247 ..... ÷\n248 ..... ø\n249 ..... ù\n250 ..... ú\n251 ..... û\n252 ..... ü\n253 ..... ý\n254 ..... þ\n"
     ]
    }
   ],
   "source": [
    "for i in range(255):\n",
    "    print(f'{i} ..... {chr(i)}')"
   ]
  },
  {
   "cell_type": "code",
   "execution_count": 30,
   "metadata": {},
   "outputs": [],
   "source": [
    "char = list(range(65,91)) + list(range(97,123))"
   ]
  },
  {
   "cell_type": "code",
   "execution_count": 31,
   "metadata": {},
   "outputs": [
    {
     "name": "stdout",
     "output_type": "stream",
     "text": [
      "A  B  C  D  E  F  G  H  I  J  K  L  M  N  O  P  Q  R  S  T  U  V  W  X  Y  Z  a  b  c  d  e  f  g  h  i  j  k  l  m  n  o  p  q  r  s  t  u  v  w  x  y  z  "
     ]
    }
   ],
   "source": [
    "for i in char:\n",
    "    print(chr(i), end=\"  \")"
   ]
  },
  {
   "cell_type": "code",
   "execution_count": 38,
   "metadata": {},
   "outputs": [],
   "source": [
    "l_char = list(range(97,123))"
   ]
  },
  {
   "cell_type": "code",
   "execution_count": 45,
   "metadata": {},
   "outputs": [
    {
     "name": "stdout",
     "output_type": "stream",
     "text": [
      "e ..... 17\n",
      "s ..... 9\n",
      "a ..... 9\n",
      "o ..... 8\n",
      "r ..... 7\n",
      "m ..... 7\n",
      "u ..... 5\n",
      "n ..... 5\n",
      "i ..... 5\n",
      "d ..... 5\n",
      "p ..... 4\n",
      "t ..... 3\n",
      "l ..... 3\n",
      "f ..... 3\n",
      "c ..... 3\n",
      "v ..... 2\n",
      "z ..... 1\n",
      "q ..... 1\n",
      "h ..... 1\n"
     ]
    }
   ],
   "source": [
    "char_rank = []\n",
    "for decimal in l_char:\n",
    "    value = s.count(chr(decimal))\n",
    "    if value > 0:\n",
    "        \n",
    "        char_rank.append((value,chr(decimal)))\n",
    "char_rank = sorted(char_rank)[::-1]\n",
    "\n",
    "for char in char_rank:\n",
    "    print(f'{char[1]} ..... {char[0]}')"
   ]
  },
  {
   "cell_type": "code",
   "execution_count": 42,
   "metadata": {},
   "outputs": [
    {
     "data": {
      "text/plain": [
       "'fuller é sempre referenciado como um homem à frente do seu tempo por conta das invenções e pesquisas realizadas em sua vida'"
      ]
     },
     "execution_count": 42,
     "metadata": {},
     "output_type": "execute_result"
    }
   ],
   "source": [
    "s"
   ]
  },
  {
   "cell_type": "code",
   "execution_count": 1,
   "metadata": {},
   "outputs": [],
   "source": [
    "string = 'à frente do seu tempo'"
   ]
  },
  {
   "cell_type": "code",
   "execution_count": 2,
   "metadata": {},
   "outputs": [
    {
     "output_type": "execute_result",
     "data": {
      "text/plain": [
       "'à frente do seu tempo'"
      ]
     },
     "metadata": {},
     "execution_count": 2
    }
   ],
   "source": [
    "string"
   ]
  },
  {
   "cell_type": "code",
   "execution_count": 3,
   "metadata": {},
   "outputs": [
    {
     "output_type": "execute_result",
     "data": {
      "text/plain": [
       "'À FRENTE DO SEU TEMPO'"
      ]
     },
     "metadata": {},
     "execution_count": 3
    }
   ],
   "source": [
    "string.upper()"
   ]
  },
  {
   "cell_type": "code",
   "execution_count": 4,
   "metadata": {},
   "outputs": [
    {
     "output_type": "execute_result",
     "data": {
      "text/plain": [
       "'à frente do seu tempo'"
      ]
     },
     "metadata": {},
     "execution_count": 4
    }
   ],
   "source": [
    "string"
   ]
  },
  {
   "cell_type": "code",
   "execution_count": 5,
   "metadata": {},
   "outputs": [],
   "source": [
    "string = string.upper()"
   ]
  },
  {
   "cell_type": "code",
   "execution_count": 6,
   "metadata": {},
   "outputs": [
    {
     "output_type": "execute_result",
     "data": {
      "text/plain": [
       "'À FRENTE DO SEU TEMPO'"
      ]
     },
     "metadata": {},
     "execution_count": 6
    }
   ],
   "source": [
    "string"
   ]
  },
  {
   "cell_type": "code",
   "execution_count": null,
   "metadata": {},
   "outputs": [],
   "source": []
  }
 ],
 "metadata": {
  "kernelspec": {
   "display_name": "Python 3",
   "language": "python",
   "name": "python3"
  },
  "language_info": {
   "codemirror_mode": {
    "name": "ipython",
    "version": 3
   },
   "file_extension": ".py",
   "mimetype": "text/x-python",
   "name": "python",
   "nbconvert_exporter": "python",
   "pygments_lexer": "ipython3",
   "version": "3.8.5-final"
  }
 },
 "nbformat": 4,
 "nbformat_minor": 4
}